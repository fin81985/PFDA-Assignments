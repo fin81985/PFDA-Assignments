{
 "cells": [
  {
   "cell_type": "markdown",
   "id": "7999980f",
   "metadata": {},
   "source": [
    "Part 1 70%\n",
    "Write a jupyter notebook that analyses the differences between the sexes by age in Ireland.\n",
    "\n",
    "Weighted mean age (by sex)\n",
    "The difference between the sexes by age\n",
    "This part does not need to look at the regions.\n",
    "\n",
    "ie You can take the notebook I used in the lectures and substitute the sexes for the regions.\n",
    "\n",
    "Part 2 20%\n",
    "In the same notebook, make a variable that stores an age (say 35).\n",
    "\n",
    "Write that code that would group the people within 5 years of that age together, into one age group \n",
    "\n",
    "Calculate the population difference between the sexes in that age group.\n",
    "\n",
    "Part 3 10%\n",
    "In the same notebook.\n",
    "\n",
    "Write the code that would work out which region in Ireland has the biggest population difference between the sexes in that age group"
   ]
  },
  {
   "cell_type": "code",
   "execution_count": 179,
   "id": "10b544b4",
   "metadata": {},
   "outputs": [],
   "source": [
    "import pandas as pd"
   ]
  },
  {
   "cell_type": "code",
   "execution_count": 180,
   "id": "150ee5cc",
   "metadata": {},
   "outputs": [
    {
     "data": {
      "text/html": [
       "<div>\n",
       "<style scoped>\n",
       "    .dataframe tbody tr th:only-of-type {\n",
       "        vertical-align: middle;\n",
       "    }\n",
       "\n",
       "    .dataframe tbody tr th {\n",
       "        vertical-align: top;\n",
       "    }\n",
       "\n",
       "    .dataframe thead th {\n",
       "        text-align: right;\n",
       "    }\n",
       "</style>\n",
       "<table border=\"1\" class=\"dataframe\">\n",
       "  <thead>\n",
       "    <tr style=\"text-align: right;\">\n",
       "      <th></th>\n",
       "      <th>STATISTIC</th>\n",
       "      <th>Statistic Label</th>\n",
       "      <th>TLIST(A1)</th>\n",
       "      <th>CensusYear</th>\n",
       "      <th>C02199V02655</th>\n",
       "      <th>Sex</th>\n",
       "      <th>C02076V03371</th>\n",
       "      <th>Single Year of Age</th>\n",
       "      <th>C03789V04537</th>\n",
       "      <th>Administrative Counties</th>\n",
       "      <th>UNIT</th>\n",
       "      <th>VALUE</th>\n",
       "    </tr>\n",
       "  </thead>\n",
       "  <tbody>\n",
       "    <tr>\n",
       "      <th>0</th>\n",
       "      <td>FY006AC01</td>\n",
       "      <td>Population</td>\n",
       "      <td>2022</td>\n",
       "      <td>2022</td>\n",
       "      <td>-</td>\n",
       "      <td>Both sexes</td>\n",
       "      <td>-</td>\n",
       "      <td>All ages</td>\n",
       "      <td>IE0</td>\n",
       "      <td>Ireland</td>\n",
       "      <td>Number</td>\n",
       "      <td>5149139</td>\n",
       "    </tr>\n",
       "    <tr>\n",
       "      <th>1</th>\n",
       "      <td>FY006AC01</td>\n",
       "      <td>Population</td>\n",
       "      <td>2022</td>\n",
       "      <td>2022</td>\n",
       "      <td>-</td>\n",
       "      <td>Both sexes</td>\n",
       "      <td>-</td>\n",
       "      <td>All ages</td>\n",
       "      <td>2ae19629-1492-13a3-e055-000000000001</td>\n",
       "      <td>Carlow County Council</td>\n",
       "      <td>Number</td>\n",
       "      <td>61968</td>\n",
       "    </tr>\n",
       "    <tr>\n",
       "      <th>2</th>\n",
       "      <td>FY006AC01</td>\n",
       "      <td>Population</td>\n",
       "      <td>2022</td>\n",
       "      <td>2022</td>\n",
       "      <td>-</td>\n",
       "      <td>Both sexes</td>\n",
       "      <td>-</td>\n",
       "      <td>All ages</td>\n",
       "      <td>2ae19629-1433-13a3-e055-000000000001</td>\n",
       "      <td>Dublin City Council</td>\n",
       "      <td>Number</td>\n",
       "      <td>592713</td>\n",
       "    </tr>\n",
       "    <tr>\n",
       "      <th>3</th>\n",
       "      <td>FY006AC01</td>\n",
       "      <td>Population</td>\n",
       "      <td>2022</td>\n",
       "      <td>2022</td>\n",
       "      <td>-</td>\n",
       "      <td>Both sexes</td>\n",
       "      <td>-</td>\n",
       "      <td>All ages</td>\n",
       "      <td>2ae19629-149f-13a3-e055-000000000001</td>\n",
       "      <td>Dún Laoghaire Rathdown County Council</td>\n",
       "      <td>Number</td>\n",
       "      <td>233860</td>\n",
       "    </tr>\n",
       "    <tr>\n",
       "      <th>4</th>\n",
       "      <td>FY006AC01</td>\n",
       "      <td>Population</td>\n",
       "      <td>2022</td>\n",
       "      <td>2022</td>\n",
       "      <td>-</td>\n",
       "      <td>Both sexes</td>\n",
       "      <td>-</td>\n",
       "      <td>All ages</td>\n",
       "      <td>2ae19629-14a0-13a3-e055-000000000001</td>\n",
       "      <td>Fingal County Council</td>\n",
       "      <td>Number</td>\n",
       "      <td>330506</td>\n",
       "    </tr>\n",
       "  </tbody>\n",
       "</table>\n",
       "</div>"
      ],
      "text/plain": [
       "   STATISTIC Statistic Label  TLIST(A1)  CensusYear C02199V02655         Sex  \\\n",
       "0  FY006AC01      Population       2022        2022            -  Both sexes   \n",
       "1  FY006AC01      Population       2022        2022            -  Both sexes   \n",
       "2  FY006AC01      Population       2022        2022            -  Both sexes   \n",
       "3  FY006AC01      Population       2022        2022            -  Both sexes   \n",
       "4  FY006AC01      Population       2022        2022            -  Both sexes   \n",
       "\n",
       "  C02076V03371 Single Year of Age                          C03789V04537  \\\n",
       "0            -           All ages                                   IE0   \n",
       "1            -           All ages  2ae19629-1492-13a3-e055-000000000001   \n",
       "2            -           All ages  2ae19629-1433-13a3-e055-000000000001   \n",
       "3            -           All ages  2ae19629-149f-13a3-e055-000000000001   \n",
       "4            -           All ages  2ae19629-14a0-13a3-e055-000000000001   \n",
       "\n",
       "                 Administrative Counties    UNIT    VALUE  \n",
       "0                                Ireland  Number  5149139  \n",
       "1                  Carlow County Council  Number    61968  \n",
       "2                    Dublin City Council  Number   592713  \n",
       "3  Dún Laoghaire Rathdown County Council  Number   233860  \n",
       "4                  Fingal County Council  Number   330506  "
      ]
     },
     "execution_count": 180,
     "metadata": {},
     "output_type": "execute_result"
    }
   ],
   "source": [
    "url = \"https://ws.cso.ie/public/api.restful/PxStat.Data.Cube_API.ReadDataset/FY006A/CSV/1.0/en\"\n",
    "df = pd.read_csv(url)\n",
    "df.head()"
   ]
  },
  {
   "cell_type": "code",
   "execution_count": 181,
   "id": "14b494f2",
   "metadata": {},
   "outputs": [
    {
     "data": {
      "text/plain": [
       "['STATISTIC',\n",
       " 'Statistic Label',\n",
       " 'TLIST(A1)',\n",
       " 'CensusYear',\n",
       " 'C02199V02655',\n",
       " 'Sex',\n",
       " 'C02076V03371',\n",
       " 'Single Year of Age',\n",
       " 'C03789V04537',\n",
       " 'Administrative Counties',\n",
       " 'UNIT',\n",
       " 'VALUE']"
      ]
     },
     "execution_count": 181,
     "metadata": {},
     "output_type": "execute_result"
    }
   ],
   "source": [
    "headers = df.columns.tolist()\n",
    "headers"
   ]
  },
  {
   "cell_type": "code",
   "execution_count": 182,
   "id": "5b826331",
   "metadata": {},
   "outputs": [
    {
     "name": "stdout",
     "output_type": "stream",
     "text": [
      "<class 'pandas.core.frame.DataFrame'>\n",
      "Index: 9696 entries, 32 to 9791\n",
      "Data columns (total 4 columns):\n",
      " #   Column                   Non-Null Count  Dtype \n",
      "---  ------                   --------------  ----- \n",
      " 0   Sex                      9696 non-null   object\n",
      " 1   Single Year of Age       9696 non-null   int64 \n",
      " 2   Administrative Counties  9696 non-null   object\n",
      " 3   VALUE                    9696 non-null   int64 \n",
      "dtypes: int64(2), object(2)\n",
      "memory usage: 378.8+ KB\n"
     ]
    },
    {
     "name": "stderr",
     "output_type": "stream",
     "text": [
      "<>:5: SyntaxWarning: invalid escape sequence '\\D'\n",
      "<>:5: SyntaxWarning: invalid escape sequence '\\D'\n",
      "C:\\Users\\finia\\AppData\\Local\\Temp\\ipykernel_14524\\2744731524.py:5: SyntaxWarning: invalid escape sequence '\\D'\n",
      "  df['Single Year of Age'] = df['Single Year of Age'].str.replace('\\D', '', regex=True)\n"
     ]
    }
   ],
   "source": [
    "drop_col_list = ['STATISTIC', 'Statistic Label','TLIST(A1)','CensusYear','C02199V02655','C02076V03371','C03789V04537','UNIT']\n",
    "df.drop(columns=drop_col_list, inplace=True)\n",
    "df = df[df[\"Single Year of Age\"] != \"All ages\"]\n",
    "df['Single Year of Age'] = df['Single Year of Age'].str.replace('Under 1 year', '0')\n",
    "df['Single Year of Age'] = df['Single Year of Age'].str.replace('\\D', '', regex=True)\n",
    "\n",
    "df['Single Year of Age']=df['Single Year of Age'].astype('int64')\n",
    "df['VALUE'] = df['VALUE'].round(0).astype('int64')\n",
    "\n",
    "# Round all numeric columns to nearest integer and convert to int\n",
    "df[df.select_dtypes(include='number').columns] = df.select_dtypes(include='number').round(0).astype('int64')\n",
    "#print (df.head(3))\n",
    "df.info()"
   ]
  },
  {
   "cell_type": "code",
   "execution_count": 183,
   "id": "eefe4610",
   "metadata": {},
   "outputs": [
    {
     "name": "stdout",
     "output_type": "stream",
     "text": [
      "Sex                 Both sexes  Female  Male\n",
      "Single Year of Age                          \n",
      "0                         3612    1762  1851\n",
      "1                         3526    1722  1805\n",
      "2                         3701    1811  1890\n",
      "3                         3780    1843  1938\n",
      "4                         3844    1864  1980\n"
     ]
    }
   ],
   "source": [
    "df_anal = pd.pivot_table(df, 'VALUE',\"Single Year of Age\",\"Sex\")\n",
    "\n",
    "# Ensure numeric values are integers\n",
    "df_anal[df_anal.select_dtypes(include='number').columns] = df_anal.select_dtypes(include='number').round(0).astype('int64')\n",
    "\n",
    "\n",
    "print (df_anal.head(5))\n",
    "# write out the entire file to local machine\n",
    "df_anal.to_csv(\"population_for_analysis.csv\")"
   ]
  },
  {
   "cell_type": "code",
   "execution_count": 184,
   "id": "b63f25ed",
   "metadata": {},
   "outputs": [
    {
     "name": "stdout",
     "output_type": "stream",
     "text": [
      "Columns in pivoted dataframe: ['Both sexes', 'Female', 'Male']\n"
     ]
    }
   ],
   "source": [
    "headers = list(df_anal.columns)\n",
    "Both_sexes = headers[0]\n",
    "female = headers[1]\n",
    "male = headers[2]\n",
    "\n",
    "print(\"Columns in pivoted dataframe:\", headers)"
   ]
  },
  {
   "cell_type": "code",
   "execution_count": 185,
   "id": "89e20438",
   "metadata": {},
   "outputs": [
    {
     "name": "stdout",
     "output_type": "stream",
     "text": [
      "Total males: 159043\n",
      "Total females: 162790\n",
      "Total both sexes: 321823\n"
     ]
    }
   ],
   "source": [
    "number_males = df_anal['Male'].sum()\n",
    "number_females = df_anal['Female'].sum()\n",
    "number_both = df_anal['Both sexes'].sum()   \n",
    "print(\"Total males:\", number_males)\n",
    "print(\"Total females:\", number_females)\n",
    "print(\"Total both sexes:\", number_both)\n",
    "district = headers[0]"
   ]
  },
  {
   "cell_type": "code",
   "execution_count": 186,
   "id": "d25bd067",
   "metadata": {},
   "outputs": [
    {
     "name": "stdout",
     "output_type": "stream",
     "text": [
      "mean-males: 1575\n",
      "mean-females: 1612\n",
      "mean-both: 3186\n"
     ]
    }
   ],
   "source": [
    "mean_males = df_anal['Male'].mean()\n",
    "mean_females = df_anal['Female'].mean()\n",
    "mean_both = df_anal[Both_sexes].mean()\n",
    "\n",
    "# Convert to integers (rounded) for display\n",
    "mean_males_int = int(round(mean_males))\n",
    "mean_females_int = int(round(mean_females))\n",
    "mean_both_int = int(round(mean_both))\n",
    "\n",
    "print(\"mean-males:\", mean_males_int)\n",
    "print(\"mean-females:\", mean_females_int)\n",
    "print(\"mean-both:\", mean_both_int)"
   ]
  }
 ],
 "metadata": {
  "kernelspec": {
   "display_name": "cuda_v1",
   "language": "python",
   "name": "python3"
  },
  "language_info": {
   "codemirror_mode": {
    "name": "ipython",
    "version": 3
   },
   "file_extension": ".py",
   "mimetype": "text/x-python",
   "name": "python",
   "nbconvert_exporter": "python",
   "pygments_lexer": "ipython3",
   "version": "3.12.7"
  }
 },
 "nbformat": 4,
 "nbformat_minor": 5
}
