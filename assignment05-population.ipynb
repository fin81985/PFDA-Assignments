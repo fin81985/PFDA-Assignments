{
 "cells": [
  {
   "cell_type": "markdown",
   "id": "7999980f",
   "metadata": {},
   "source": [
    "Part 1 70%\n",
    "Write a jupyter notebook that analyses the differences between the sexes by age in Ireland.\n",
    "\n",
    "Weighted mean age (by sex)\n",
    "The difference between the sexes by age\n",
    "This part does not need to look at the regions.\n",
    "\n",
    "ie You can take the notebook I used in the lectures and substitute the sexes for the regions.\n",
    "\n",
    "Part 2 20%\n",
    "In the same notebook, make a variable that stores an age (say 35).\n",
    "\n",
    "Write that code that would group the people within 5 years of that age together, into one age group \n",
    "\n",
    "Calculate the population difference between the sexes in that age group.\n",
    "\n",
    "Part 3 10%\n",
    "In the same notebook.\n",
    "\n",
    "Write the code that would work out which region in Ireland has the biggest population difference between the sexes in that age group"
   ]
  },
  {
   "cell_type": "code",
   "execution_count": 631,
   "id": "10b544b4",
   "metadata": {},
   "outputs": [],
   "source": [
    "import pandas as pd"
   ]
  },
  {
   "cell_type": "code",
   "execution_count": 632,
   "id": "150ee5cc",
   "metadata": {},
   "outputs": [
    {
     "data": {
      "text/html": [
       "<div>\n",
       "<style scoped>\n",
       "    .dataframe tbody tr th:only-of-type {\n",
       "        vertical-align: middle;\n",
       "    }\n",
       "\n",
       "    .dataframe tbody tr th {\n",
       "        vertical-align: top;\n",
       "    }\n",
       "\n",
       "    .dataframe thead th {\n",
       "        text-align: right;\n",
       "    }\n",
       "</style>\n",
       "<table border=\"1\" class=\"dataframe\">\n",
       "  <thead>\n",
       "    <tr style=\"text-align: right;\">\n",
       "      <th></th>\n",
       "      <th>STATISTIC</th>\n",
       "      <th>Statistic Label</th>\n",
       "      <th>TLIST(A1)</th>\n",
       "      <th>CensusYear</th>\n",
       "      <th>C02199V02655</th>\n",
       "      <th>Sex</th>\n",
       "      <th>C02076V03371</th>\n",
       "      <th>Single Year of Age</th>\n",
       "      <th>C03789V04537</th>\n",
       "      <th>Administrative Counties</th>\n",
       "      <th>UNIT</th>\n",
       "      <th>VALUE</th>\n",
       "    </tr>\n",
       "  </thead>\n",
       "  <tbody>\n",
       "    <tr>\n",
       "      <th>0</th>\n",
       "      <td>FY006AC01</td>\n",
       "      <td>Population</td>\n",
       "      <td>2022</td>\n",
       "      <td>2022</td>\n",
       "      <td>-</td>\n",
       "      <td>Both sexes</td>\n",
       "      <td>-</td>\n",
       "      <td>All ages</td>\n",
       "      <td>IE0</td>\n",
       "      <td>Ireland</td>\n",
       "      <td>Number</td>\n",
       "      <td>5149139</td>\n",
       "    </tr>\n",
       "    <tr>\n",
       "      <th>1</th>\n",
       "      <td>FY006AC01</td>\n",
       "      <td>Population</td>\n",
       "      <td>2022</td>\n",
       "      <td>2022</td>\n",
       "      <td>-</td>\n",
       "      <td>Both sexes</td>\n",
       "      <td>-</td>\n",
       "      <td>All ages</td>\n",
       "      <td>2ae19629-1492-13a3-e055-000000000001</td>\n",
       "      <td>Carlow County Council</td>\n",
       "      <td>Number</td>\n",
       "      <td>61968</td>\n",
       "    </tr>\n",
       "    <tr>\n",
       "      <th>2</th>\n",
       "      <td>FY006AC01</td>\n",
       "      <td>Population</td>\n",
       "      <td>2022</td>\n",
       "      <td>2022</td>\n",
       "      <td>-</td>\n",
       "      <td>Both sexes</td>\n",
       "      <td>-</td>\n",
       "      <td>All ages</td>\n",
       "      <td>2ae19629-1433-13a3-e055-000000000001</td>\n",
       "      <td>Dublin City Council</td>\n",
       "      <td>Number</td>\n",
       "      <td>592713</td>\n",
       "    </tr>\n",
       "    <tr>\n",
       "      <th>3</th>\n",
       "      <td>FY006AC01</td>\n",
       "      <td>Population</td>\n",
       "      <td>2022</td>\n",
       "      <td>2022</td>\n",
       "      <td>-</td>\n",
       "      <td>Both sexes</td>\n",
       "      <td>-</td>\n",
       "      <td>All ages</td>\n",
       "      <td>2ae19629-149f-13a3-e055-000000000001</td>\n",
       "      <td>Dún Laoghaire Rathdown County Council</td>\n",
       "      <td>Number</td>\n",
       "      <td>233860</td>\n",
       "    </tr>\n",
       "    <tr>\n",
       "      <th>4</th>\n",
       "      <td>FY006AC01</td>\n",
       "      <td>Population</td>\n",
       "      <td>2022</td>\n",
       "      <td>2022</td>\n",
       "      <td>-</td>\n",
       "      <td>Both sexes</td>\n",
       "      <td>-</td>\n",
       "      <td>All ages</td>\n",
       "      <td>2ae19629-14a0-13a3-e055-000000000001</td>\n",
       "      <td>Fingal County Council</td>\n",
       "      <td>Number</td>\n",
       "      <td>330506</td>\n",
       "    </tr>\n",
       "  </tbody>\n",
       "</table>\n",
       "</div>"
      ],
      "text/plain": [
       "   STATISTIC Statistic Label  TLIST(A1)  CensusYear C02199V02655         Sex  \\\n",
       "0  FY006AC01      Population       2022        2022            -  Both sexes   \n",
       "1  FY006AC01      Population       2022        2022            -  Both sexes   \n",
       "2  FY006AC01      Population       2022        2022            -  Both sexes   \n",
       "3  FY006AC01      Population       2022        2022            -  Both sexes   \n",
       "4  FY006AC01      Population       2022        2022            -  Both sexes   \n",
       "\n",
       "  C02076V03371 Single Year of Age                          C03789V04537  \\\n",
       "0            -           All ages                                   IE0   \n",
       "1            -           All ages  2ae19629-1492-13a3-e055-000000000001   \n",
       "2            -           All ages  2ae19629-1433-13a3-e055-000000000001   \n",
       "3            -           All ages  2ae19629-149f-13a3-e055-000000000001   \n",
       "4            -           All ages  2ae19629-14a0-13a3-e055-000000000001   \n",
       "\n",
       "                 Administrative Counties    UNIT    VALUE  \n",
       "0                                Ireland  Number  5149139  \n",
       "1                  Carlow County Council  Number    61968  \n",
       "2                    Dublin City Council  Number   592713  \n",
       "3  Dún Laoghaire Rathdown County Council  Number   233860  \n",
       "4                  Fingal County Council  Number   330506  "
      ]
     },
     "execution_count": 632,
     "metadata": {},
     "output_type": "execute_result"
    }
   ],
   "source": [
    "url = \"https://ws.cso.ie/public/api.restful/PxStat.Data.Cube_API.ReadDataset/FY006A/CSV/1.0/en\"\n",
    "df = pd.read_csv(url)\n",
    "df.head()"
   ]
  },
  {
   "cell_type": "code",
   "execution_count": 633,
   "id": "14b494f2",
   "metadata": {},
   "outputs": [
    {
     "data": {
      "text/plain": [
       "['STATISTIC',\n",
       " 'Statistic Label',\n",
       " 'TLIST(A1)',\n",
       " 'CensusYear',\n",
       " 'C02199V02655',\n",
       " 'Sex',\n",
       " 'C02076V03371',\n",
       " 'Single Year of Age',\n",
       " 'C03789V04537',\n",
       " 'Administrative Counties',\n",
       " 'UNIT',\n",
       " 'VALUE']"
      ]
     },
     "execution_count": 633,
     "metadata": {},
     "output_type": "execute_result"
    }
   ],
   "source": [
    "headers = df.columns.tolist()\n",
    "headers"
   ]
  },
  {
   "cell_type": "code",
   "execution_count": 634,
   "id": "5dd65bc7",
   "metadata": {},
   "outputs": [
    {
     "name": "stdout",
     "output_type": "stream",
     "text": [
      "Total population across all counties: 10298278\n"
     ]
    }
   ],
   "source": [
    "# Exclude 'Ireland' row to sum only counties\n",
    "df_regions = df[df['Administrative Counties'] != 'Ireland']\n",
    "\n",
    "# Sum Male + Female across all counties and ages\n",
    "total_population = df_regions[df_regions['Sex'].isin(['Male','Female'])].groupby('Single Year of Age')['VALUE'].sum().sum()\n",
    "\n",
    "print(\"Total population across all counties:\", total_population)\n",
    "\n"
   ]
  },
  {
   "cell_type": "code",
   "execution_count": 635,
   "id": "5b826331",
   "metadata": {},
   "outputs": [
    {
     "name": "stdout",
     "output_type": "stream",
     "text": [
      "<class 'pandas.core.frame.DataFrame'>\n",
      "Index: 9696 entries, 32 to 9791\n",
      "Data columns (total 4 columns):\n",
      " #   Column                   Non-Null Count  Dtype \n",
      "---  ------                   --------------  ----- \n",
      " 0   Sex                      9696 non-null   object\n",
      " 1   Single Year of Age       9696 non-null   int64 \n",
      " 2   Administrative Counties  9696 non-null   object\n",
      " 3   VALUE                    9696 non-null   int64 \n",
      "dtypes: int64(2), object(2)\n",
      "memory usage: 378.8+ KB\n"
     ]
    }
   ],
   "source": [
    "drop_col_list = ['STATISTIC', 'Statistic Label','TLIST(A1)','CensusYear','C02199V02655','C02076V03371','C03789V04537','UNIT']\n",
    "df.drop(columns=drop_col_list, inplace=True)\n",
    "df = df[df[\"Single Year of Age\"] != \"All ages\"]\n",
    "df['Single Year of Age'] = df['Single Year of Age'].str.replace('Under 1 year', '0')\n",
    "df['Single Year of Age'] = df['Single Year of Age'].str.replace('\\\\D', '', regex=True)\n",
    "\n",
    "\n",
    "df['Single Year of Age']=df['Single Year of Age'].astype('int64')\n",
    "df['VALUE'] = df['VALUE'].round(0).astype('int64')\n",
    "\n",
    "\n",
    "\n",
    "# Round all numeric columns to nearest integer and convert to int\n",
    "df[df.select_dtypes(include='number').columns] = df.select_dtypes(include='number').round(0).astype('int64')\n",
    "#print (df.head(3))\n",
    "df.info()"
   ]
  },
  {
   "cell_type": "code",
   "execution_count": 636,
   "id": "eefe4610",
   "metadata": {},
   "outputs": [
    {
     "name": "stdout",
     "output_type": "stream",
     "text": [
      "Sex                 Both sexes  Female  Male\n",
      "Single Year of Age                          \n",
      "0                         3612    1762  1851\n",
      "1                         3526    1722  1805\n",
      "2                         3701    1811  1890\n",
      "3                         3780    1843  1938\n",
      "4                         3844    1864  1980\n"
     ]
    }
   ],
   "source": [
    "df_anal = pd.pivot_table(df, 'VALUE',\"Single Year of Age\",\"Sex\")\n",
    "\n",
    "# Ensure numeric values are integers\n",
    "df_anal[df_anal.select_dtypes(include='number').columns] = df_anal.select_dtypes(include='number').round(0).astype('int64')\n",
    "\n",
    "\n",
    "print (df_anal.head(5))\n",
    "# write out the entire file to local machine\n",
    "df_anal.to_csv(\"population_for_analysis.csv\")"
   ]
  },
  {
   "cell_type": "code",
   "execution_count": 637,
   "id": "b63f25ed",
   "metadata": {},
   "outputs": [
    {
     "name": "stdout",
     "output_type": "stream",
     "text": [
      "Columns in pivoted dataframe: ['Both sexes', 'Female', 'Male']\n"
     ]
    }
   ],
   "source": [
    "headers = list(df_anal.columns)\n",
    "Both_sexes = headers[0]\n",
    "female = headers[1]\n",
    "male = headers[2]\n",
    "\n",
    "print(\"Columns in pivoted dataframe:\", headers)"
   ]
  },
  {
   "cell_type": "code",
   "execution_count": 638,
   "id": "d25bd067",
   "metadata": {},
   "outputs": [
    {
     "name": "stdout",
     "output_type": "stream",
     "text": [
      "mean-males: 38\n",
      "mean-females: 39\n",
      "mean-both: 38\n"
     ]
    }
   ],
   "source": [
    "# Mean age calculations (by sex)\n",
    "mean_males = (df_anal.index * df_anal['Male']).sum() / df_anal['Male'].sum()\n",
    "mean_females = (df_anal.index * df_anal['Female']).sum() / df_anal['Female'].sum()\n",
    "mean_both = (df_anal.index * df_anal['Both sexes']).sum() / df_anal['Both sexes'].sum()\n",
    "\n",
    "# Convert to integers (rounded) for display\n",
    "mean_males_int = int(round(mean_males))\n",
    "mean_females_int = int(round(mean_females))\n",
    "mean_both_int = int(round(mean_both))\n",
    "\n",
    "print(\"mean-males:\", mean_males_int)\n",
    "print(\"mean-females:\", mean_females_int)\n",
    "print(\"mean-both:\", mean_both_int)\n"
   ]
  },
  {
   "cell_type": "code",
   "execution_count": 639,
   "id": "ef1c8b06",
   "metadata": {},
   "outputs": [
    {
     "name": "stdout",
     "output_type": "stream",
     "text": [
      "Total population in Ireland (all ages):\n",
      "Males: 2544549\n",
      "Females: 2604590\n",
      "Both sexes: 5149139\n"
     ]
    }
   ],
   "source": [
    "# Total population in Ireland across all ages and sexes\n",
    "ireland_totals_all = df[df['Administrative Counties'] == 'Ireland'].groupby('Sex')['VALUE'].sum()\n",
    "\n",
    "# Extract totals\n",
    "total_males = int(ireland_totals_all.get('Male', 0))\n",
    "total_females = int(ireland_totals_all.get('Female', 0))\n",
    "total_both = int(ireland_totals_all.get('Both sexes', total_males + total_females))\n",
    "\n",
    "# Print results\n",
    "print(\"Total population in Ireland (all ages):\")\n",
    "print(\"Males:\", total_males)\n",
    "print(\"Females:\", total_females)\n",
    "print(\"Both sexes:\", total_both)\n"
   ]
  },
  {
   "cell_type": "markdown",
   "id": "e3a63e68",
   "metadata": {},
   "source": [
    "part two"
   ]
  },
  {
   "cell_type": "code",
   "execution_count": 640,
   "id": "67cd1391",
   "metadata": {},
   "outputs": [],
   "source": [
    "# age variable\n",
    "age = 35\n",
    "\n",
    "# Define age range (±5 years)\n",
    "lower_age = age - 5\n",
    "upper_age = age + 5"
   ]
  },
  {
   "cell_type": "code",
   "execution_count": 641,
   "id": "3faead07",
   "metadata": {},
   "outputs": [
    {
     "name": "stdout",
     "output_type": "stream",
     "text": [
      "List of all regions in Ireland:\n",
      "['Ireland', 'Carlow County Council', 'Dublin City Council', 'Dún Laoghaire Rathdown County Council', 'Fingal County Council', 'South Dublin County Council', 'Kildare County Council', 'Kilkenny County Council', 'Laois County Council', 'Longford County Council', 'Louth County Council', 'Meath County Council', 'Offaly County Council', 'Westmeath County Council', 'Wexford County Council', 'Wicklow County Council', 'Clare County Council', 'Cork City Council', 'Cork County Council', 'Kerry County Council', 'Limerick City & County Council', 'Tipperary County Council', 'Waterford City & County Council', 'Galway City Council', 'Galway County Council', 'Leitrim County Council', 'Mayo  County Council', 'Roscommon County Council', 'Sligo County Council', 'Cavan County Council', 'Donegal County Council', 'Monaghan County Council']\n"
     ]
    }
   ],
   "source": [
    "# List all regions (Administrative Counties) in the full dataset\n",
    "regions = df['Administrative Counties'].unique().tolist()\n",
    "print(\"List of all regions in Ireland:\")\n",
    "print(regions)\n"
   ]
  },
  {
   "cell_type": "code",
   "execution_count": 642,
   "id": "8082bb0d",
   "metadata": {},
   "outputs": [
    {
     "name": "stdout",
     "output_type": "stream",
     "text": [
      "Region with the largest population difference between the sexes in ages 30 to 40\n",
      "Region: Ireland\n",
      "Population difference (Male - Female): -30476\n"
     ]
    }
   ],
   "source": [
    "# Filter the dataframe for ages within this range\n",
    "age_group = df[(df['Single Year of Age'] >= lower_age) & (df['Single Year of Age'] <= upper_age)]\n",
    "\n",
    "# Group by region and sex within the age range, and sum the population\n",
    "region_totals = ( age_group.groupby(['Administrative Counties', 'Sex'])['VALUE'].sum().unstack(fill_value=0)\n",
    ")\n",
    "\n",
    "# Calculate the population difference (Male - Female) for each region\n",
    "region_totals['Difference'] = region_totals['Male'] - region_totals['Female']\n",
    "\n",
    "# Find the region with the largest absolute difference\n",
    "max_region = region_totals['Difference'].abs().idxmax()\n",
    "max_difference = int(region_totals.loc[max_region, 'Difference'])\n",
    "\n",
    "# Print results\n",
    "print(\"Region with the largest population difference between the sexes in ages\", lower_age, \"to\", upper_age)\n",
    "print(\"Region:\", max_region)\n",
    "print(\"Population difference (Male - Female):\", max_difference)\n"
   ]
  },
  {
   "cell_type": "code",
   "execution_count": 643,
   "id": "740a2dbf",
   "metadata": {},
   "outputs": [
    {
     "name": "stdout",
     "output_type": "stream",
     "text": [
      "Population in Ireland for ages 30 to 40\n",
      "Sex\n",
      "Both sexes    798536\n",
      "Female        414506\n",
      "Male          384030\n",
      "Name: VALUE, dtype: int64\n",
      "Population difference (Male - Female): -30476\n"
     ]
    }
   ],
   "source": [
    "\n",
    "\n",
    "\n",
    "# Total population in Ireland for the selected age range\n",
    "ireland_age_group = age_group[age_group['Administrative Counties'] == 'Ireland']\n",
    "ireland_age_totals = ireland_age_group.groupby('Sex')['VALUE'].sum()\n",
    "\n",
    "print(\"Population in Ireland for ages\", lower_age, \"to\", upper_age)\n",
    "print(ireland_age_totals)\n",
    "\n",
    "# Population difference (Male - Female)\n",
    "ireland_difference = int(ireland_age_totals.get('Male', 0) - ireland_age_totals.get('Female', 0))\n",
    "print(\"Population difference (Male - Female):\", ireland_difference)\n"
   ]
  },
  {
   "cell_type": "markdown",
   "id": "d99b7797",
   "metadata": {},
   "source": [
    "Part 3 : # Find which region has the biggest population difference between the sexes in the selected age group\n"
   ]
  },
  {
   "cell_type": "code",
   "execution_count": 644,
   "id": "acf1858d",
   "metadata": {},
   "outputs": [
    {
     "name": "stdout",
     "output_type": "stream",
     "text": [
      "Population in Dublin City Council for ages 30 to 40\n",
      "Sex\n",
      "Both sexes    120698\n",
      "Female         59831\n",
      "Male           60867\n",
      "Name: VALUE, dtype: int64\n",
      "Population difference (Male - Female): 1036\n"
     ]
    }
   ],
   "source": [
    "# Total population in Dublin City Council for the selected age range\n",
    "dublin_age_group = age_group[age_group['Administrative Counties'] == 'Dublin City Council']\n",
    "dublin_age_totals = dublin_age_group.groupby('Sex')['VALUE'].sum()\n",
    "\n",
    "print(\"Population in Dublin City Council for ages\", lower_age, \"to\", upper_age)\n",
    "print(dublin_age_totals)\n",
    "\n",
    "# Population difference (Male - Female)\n",
    "dublin_difference = int(dublin_age_totals.get('Male', 0) - dublin_age_totals.get('Female', 0))\n",
    "print(\"Population difference (Male - Female):\", dublin_difference)\n"
   ]
  }
 ],
 "metadata": {
  "kernelspec": {
   "display_name": "cuda_v1",
   "language": "python",
   "name": "python3"
  },
  "language_info": {
   "codemirror_mode": {
    "name": "ipython",
    "version": 3
   },
   "file_extension": ".py",
   "mimetype": "text/x-python",
   "name": "python",
   "nbconvert_exporter": "python",
   "pygments_lexer": "ipython3",
   "version": "3.12.7"
  }
 },
 "nbformat": 4,
 "nbformat_minor": 5
}
